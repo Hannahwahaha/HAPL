{
  "nbformat": 4,
  "nbformat_minor": 0,
  "metadata": {
    "colab": {
      "provenance": []
    },
    "kernelspec": {
      "name": "python3",
      "display_name": "Python 3"
    },
    "language_info": {
      "name": "python"
    }
  },
  "cells": [
    {
      "cell_type": "markdown",
      "source": [
        "1."
      ],
      "metadata": {
        "id": "QRrEUlLG_AmB"
      }
    },
    {
      "cell_type": "code",
      "execution_count": 20,
      "metadata": {
        "colab": {
          "base_uri": "https://localhost:8080/"
        },
        "id": "xaYXQjMx-1iP",
        "outputId": "136673eb-f68d-4993-c29c-8c12a0a5b413"
      },
      "outputs": [
        {
          "output_type": "stream",
          "name": "stdout",
          "text": [
            "請輸入年份4\n",
            "閏年\n"
          ]
        }
      ],
      "source": [
        "a=int(input('請輸入年份'))\n",
        "if a<=1582:\n",
        "  if a%4==0:\n",
        "    print('閏年')\n",
        "  else:\n",
        "    print('平年')\n",
        "\n",
        "elif a>1582:\n",
        "  if a%400==0:\n",
        "    print('閏年')\n",
        "  elif a%100==0:\n",
        "      print('平年')\n",
        "  elif a%4==0:\n",
        "      print('閏年')\n",
        "  else:\n",
        "    print('平年')"
      ]
    }
  ]
}