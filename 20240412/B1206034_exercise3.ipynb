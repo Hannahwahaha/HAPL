{
  "nbformat": 4,
  "nbformat_minor": 0,
  "metadata": {
    "colab": {
      "provenance": []
    },
    "kernelspec": {
      "name": "python3",
      "display_name": "Python 3"
    },
    "language_info": {
      "name": "python"
    }
  },
  "cells": [
    {
      "cell_type": "markdown",
      "source": [
        "1."
      ],
      "metadata": {
        "id": "6UjojYh20A3y"
      }
    },
    {
      "cell_type": "code",
      "execution_count": null,
      "metadata": {
        "colab": {
          "base_uri": "https://localhost:8080/"
        },
        "id": "qIQrXvUwzXrT",
        "outputId": "92db2e28-c9de-4624-c865-e71eac1588cd"
      },
      "outputs": [
        {
          "output_type": "stream",
          "name": "stdout",
          "text": [
            "請輸入體重(kg)51\n",
            "請輸入身高(cm)158\n",
            "20.429418362441915\n",
            "體位:適中\n"
          ]
        }
      ],
      "source": [
        "a=int(input('請輸入體重(kg)'))\n",
        "b = int(input('請輸入身高(cm)'))\n",
        "c = b/100  # Convert cm to meters\n",
        "a/=(c * c)\n",
        "print(a)\n",
        "d=18.5\n",
        "e=24\n",
        "f=27\n",
        "if a < d:\n",
        "  print('體位:過輕')\n",
        "elif d <= a < e:\n",
        "   print('體位:適中')\n",
        "elif e <= a < f:\n",
        "   print('體位:過重')\n",
        "elif a >= f:\n",
        "   print('體位:肥胖')"
      ]
    },
    {
      "cell_type": "markdown",
      "source": [
        "2."
      ],
      "metadata": {
        "id": "CuiZIxv23X6i"
      }
    },
    {
      "cell_type": "code",
      "source": [
        "a=int(input('請輸入第一個數字'))\n",
        "b=(input('請輸入運算符號'))\n",
        "c=int(input('請輸入第二個數字'))\n",
        "if b=='+':\n",
        "  d=a+c\n",
        "  print(d)\n",
        "elif b=='-':\n",
        "   d=a-c\n",
        "   print(d)\n",
        "elif b=='*':\n",
        "   d=a*c\n",
        "   print(d)\n",
        "else:\n",
        "   d=a/c\n",
        "   print(d)\n"
      ],
      "metadata": {
        "colab": {
          "base_uri": "https://localhost:8080/"
        },
        "id": "eZqyfKHt3YrZ",
        "outputId": "d45cf8e2-bd7e-444d-c87a-83d178c20011"
      },
      "execution_count": 10,
      "outputs": [
        {
          "output_type": "stream",
          "name": "stdout",
          "text": [
            "請輸入第一個數字5\n",
            "請輸入運算符號*\n",
            "請輸入第二個數字5\n",
            "25\n"
          ]
        }
      ]
    }
  ]
}