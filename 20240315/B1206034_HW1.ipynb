{
  "nbformat": 4,
  "nbformat_minor": 0,
  "metadata": {
    "colab": {
      "provenance": []
    },
    "kernelspec": {
      "name": "python3",
      "display_name": "Python 3"
    },
    "language_info": {
      "name": "python"
    }
  },
  "cells": [
    {
      "cell_type": "markdown",
      "source": [
        "1.印出指定文字"
      ],
      "metadata": {
        "id": "AxnjdYQK6ZMA"
      }
    },
    {
      "cell_type": "code",
      "execution_count": null,
      "metadata": {
        "colab": {
          "base_uri": "https://localhost:8080/"
        },
        "id": "ZqnZGi1B6NJm",
        "outputId": "dc602c4d-9e16-43a8-dc75-3cbd4d45387e"
      },
      "outputs": [
        {
          "output_type": "stream",
          "name": "stdout",
          "text": [
            "I'm a student\n"
          ]
        }
      ],
      "source": [
        "x=\"I'm a student\"\n",
        "print(x)"
      ]
    },
    {
      "cell_type": "markdown",
      "source": [
        "2.計算兩點距離"
      ],
      "metadata": {
        "id": "C3vlljWX6E3R"
      }
    },
    {
      "cell_type": "code",
      "source": [
        "x1=int(input('請輸入座標x1 '))\n",
        "y1=int(input('請輸入座標y1 '))\n",
        "x2=int(input('請輸入座標x2 '))\n",
        "y2=int(input('請輸入座標y2 '))\n",
        "a= x1 - x2\n",
        "b= y1 - y2\n",
        "c= a**2 + b**2\n",
        "d= c**0.5\n",
        "print(d)\n"
      ],
      "metadata": {
        "colab": {
          "base_uri": "https://localhost:8080/"
        },
        "id": "PcQPWH8H6Glw",
        "outputId": "637179e4-0de0-46b8-edf9-a2d1556ec62d"
      },
      "execution_count": 28,
      "outputs": [
        {
          "output_type": "stream",
          "name": "stdout",
          "text": [
            "請輸入座標x1 1\n",
            "請輸入座標y1 2\n",
            "請輸入座標x2 4\n",
            "請輸入座標y2 6\n",
            "5.0\n"
          ]
        }
      ]
    },
    {
      "cell_type": "markdown",
      "source": [
        "3.計算BMI"
      ],
      "metadata": {
        "id": "iBtVcwjY-Pzh"
      }
    },
    {
      "cell_type": "code",
      "source": [
        "a=int(input('請輸入體重(kg)'))\n",
        "b = int(input('請輸入身高(cm)'))\n",
        "c = b/100  # Convert cm to meters\n",
        "a/=(c * c)\n",
        "print(a)"
      ],
      "metadata": {
        "id": "V_O0Kktw-SYv",
        "colab": {
          "base_uri": "https://localhost:8080/"
        },
        "outputId": "5bd6e792-28dd-43bd-95ad-fb7fb44ab3ec"
      },
      "execution_count": 26,
      "outputs": [
        {
          "output_type": "stream",
          "name": "stdout",
          "text": [
            "請輸入體重(kg)51\n",
            "請輸入身高(cm)158\n",
            "20.429418362441915\n"
          ]
        }
      ]
    }
  ]
}