{
  "nbformat": 4,
  "nbformat_minor": 0,
  "metadata": {
    "colab": {
      "provenance": []
    },
    "kernelspec": {
      "name": "python3",
      "display_name": "Python 3"
    },
    "language_info": {
      "name": "python"
    }
  },
  "cells": [
    {
      "cell_type": "markdown",
      "source": [
        "1."
      ],
      "metadata": {
        "id": "IPglBLNauwEO"
      }
    },
    {
      "cell_type": "code",
      "source": [
        "b=1\n",
        "while b<=9:\n",
        "    a=1\n",
        "    while a<=9:\n",
        "      c=a*b\n",
        "      print(f'{a} * {b} = {c:<4}',end='')\n",
        "      a += 1\n",
        "    print('')\n",
        "    b+=1"
      ],
      "metadata": {
        "colab": {
          "base_uri": "https://localhost:8080/"
        },
        "id": "GZINkupx5R4K",
        "outputId": "f97cf854-4efd-46de-fb0b-d37775a1b4cd"
      },
      "execution_count": null,
      "outputs": [
        {
          "output_type": "stream",
          "name": "stdout",
          "text": [
            "1 * 1 = 1   2 * 1 = 2   3 * 1 = 3   4 * 1 = 4   5 * 1 = 5   6 * 1 = 6   7 * 1 = 7   8 * 1 = 8   9 * 1 = 9   \n",
            "1 * 2 = 2   2 * 2 = 4   3 * 2 = 6   4 * 2 = 8   5 * 2 = 10  6 * 2 = 12  7 * 2 = 14  8 * 2 = 16  9 * 2 = 18  \n",
            "1 * 3 = 3   2 * 3 = 6   3 * 3 = 9   4 * 3 = 12  5 * 3 = 15  6 * 3 = 18  7 * 3 = 21  8 * 3 = 24  9 * 3 = 27  \n",
            "1 * 4 = 4   2 * 4 = 8   3 * 4 = 12  4 * 4 = 16  5 * 4 = 20  6 * 4 = 24  7 * 4 = 28  8 * 4 = 32  9 * 4 = 36  \n",
            "1 * 5 = 5   2 * 5 = 10  3 * 5 = 15  4 * 5 = 20  5 * 5 = 25  6 * 5 = 30  7 * 5 = 35  8 * 5 = 40  9 * 5 = 45  \n",
            "1 * 6 = 6   2 * 6 = 12  3 * 6 = 18  4 * 6 = 24  5 * 6 = 30  6 * 6 = 36  7 * 6 = 42  8 * 6 = 48  9 * 6 = 54  \n",
            "1 * 7 = 7   2 * 7 = 14  3 * 7 = 21  4 * 7 = 28  5 * 7 = 35  6 * 7 = 42  7 * 7 = 49  8 * 7 = 56  9 * 7 = 63  \n",
            "1 * 8 = 8   2 * 8 = 16  3 * 8 = 24  4 * 8 = 32  5 * 8 = 40  6 * 8 = 48  7 * 8 = 56  8 * 8 = 64  9 * 8 = 72  \n",
            "1 * 9 = 9   2 * 9 = 18  3 * 9 = 27  4 * 9 = 36  5 * 9 = 45  6 * 9 = 54  7 * 9 = 63  8 * 9 = 72  9 * 9 = 81  \n"
          ]
        }
      ]
    },
    {
      "cell_type": "markdown",
      "source": [
        "2."
      ],
      "metadata": {
        "id": "VXGk15ozu1pd"
      }
    },
    {
      "cell_type": "code",
      "source": [
        "import random\n",
        "a=random.sample(range(1,10),4)\n",
        "print('答案:'+str(a))\n",
        "\n",
        "b=0\n",
        "c=0\n",
        "num=0\n",
        "\n",
        "x=input('請輸入四個數字(不會重複):')\n",
        "while b!=4:\n",
        "  b=0\n",
        "  c=0\n",
        "\n",
        "  if len(x)==4:\n",
        "      num+=1\n",
        "      for i in range(4):\n",
        "        if int(x[i])==a[i]:\n",
        "          b+=1\n",
        "        else:\n",
        "          for j in range(4):\n",
        "            if int(x[i])==a[j]:\n",
        "              c+=1\n",
        "            else:\n",
        "              continue\n",
        "      print(str(x)+':'+str(b)+'A'+str(c)+'B')\n",
        "      if b!=4:\n",
        "        x=input('請輸入四個數字(不會重複):')\n",
        "        continue\n",
        "      else:\n",
        "        break\n",
        "\n",
        "  else:\n",
        "    num+=0\n",
        "    x=input('輸入數字過多,請重新輸入:')\n",
        "    continue\n",
        "\n",
        "print('答對了!總共猜了'+str(num)+'次')"
      ],
      "metadata": {
        "colab": {
          "base_uri": "https://localhost:8080/"
        },
        "id": "OXMVFoyuOxk2",
        "outputId": "75b803b4-83e7-4fc9-c09d-ee4b59011e00"
      },
      "execution_count": 3,
      "outputs": [
        {
          "output_type": "stream",
          "name": "stdout",
          "text": [
            "答案:[1, 7, 6, 2]\n",
            "請輸入四個數字(不會重複):17948\n",
            "輸入數字過多,請重新輸入:1297\n",
            "1297:1A2B\n",
            "請輸入四個數字(不會重複):1978\n",
            "1978:1A1B\n",
            "請輸入四個數字(不會重複):1274\n",
            "1274:1A2B\n",
            "請輸入四個數字(不會重複):1726\n",
            "1726:2A2B\n",
            "請輸入四個數字(不會重複):1762\n",
            "1762:4A0B\n",
            "答對了!總共猜了5次\n"
          ]
        }
      ]
    }
  ]
}