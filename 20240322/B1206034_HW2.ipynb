{
  "nbformat": 4,
  "nbformat_minor": 0,
  "metadata": {
    "colab": {
      "provenance": []
    },
    "kernelspec": {
      "name": "python3",
      "display_name": "Python 3"
    },
    "language_info": {
      "name": "python"
    }
  },
  "cells": [
    {
      "cell_type": "markdown",
      "source": [
        "1."
      ],
      "metadata": {
        "id": "NABaBeebtFd3"
      }
    },
    {
      "cell_type": "code",
      "execution_count": 11,
      "metadata": {
        "colab": {
          "base_uri": "https://localhost:8080/"
        },
        "id": "DR1aUiV9sz5R",
        "outputId": "3de3ceac-1fa0-4582-e353-dda1e297be5c"
      },
      "outputs": [
        {
          "output_type": "stream",
          "name": "stdout",
          "text": [
            "A\n",
            "['K', 'H', 'U']\n"
          ]
        }
      ],
      "source": [
        "a='C,B,A'\n",
        "b=['F','G','H']\n",
        "c=a.split(',')\n",
        "c.extend(b)\n",
        "c[0]='K'\n",
        "d=c.pop(2)\n",
        "print(d)\n",
        "del c[1:4]\n",
        "c.append('U')\n",
        "print(c)\n"
      ]
    },
    {
      "cell_type": "markdown",
      "source": [
        "2."
      ],
      "metadata": {
        "id": "bVwp_dSoy8MP"
      }
    },
    {
      "cell_type": "code",
      "source": [
        "a=input('請輸入一個八位數的數字')\n",
        "print(a[4])"
      ],
      "metadata": {
        "colab": {
          "base_uri": "https://localhost:8080/"
        },
        "id": "T-_citYky9Q3",
        "outputId": "6316ea6d-9ccd-4732-952e-8d58fcfd443f"
      },
      "execution_count": 15,
      "outputs": [
        {
          "output_type": "stream",
          "name": "stdout",
          "text": [
            "請輸入一個八位數的數字12345895\n",
            "5\n"
          ]
        }
      ]
    },
    {
      "cell_type": "markdown",
      "source": [
        "3."
      ],
      "metadata": {
        "id": "nvKy-U2Z4HsH"
      }
    },
    {
      "cell_type": "code",
      "source": [
        "a = \"My ID is B1206034\"\n",
        "b=a.split(' ')\n",
        "print(len(b))\n",
        "print(len(b[3]))\n"
      ],
      "metadata": {
        "colab": {
          "base_uri": "https://localhost:8080/"
        },
        "id": "w_udhlJv4Ifv",
        "outputId": "85d8715e-9a51-4616-b15b-8c81cc5135e3"
      },
      "execution_count": 26,
      "outputs": [
        {
          "output_type": "stream",
          "name": "stdout",
          "text": [
            "4\n",
            "8\n"
          ]
        }
      ]
    },
    {
      "cell_type": "markdown",
      "source": [
        "4."
      ],
      "metadata": {
        "id": "IsgR7Dsi75uI"
      }
    },
    {
      "cell_type": "code",
      "source": [
        "a=\"I'm a student\"\n",
        "b=a.split(' ')\n",
        "print(b[0][2])"
      ],
      "metadata": {
        "colab": {
          "base_uri": "https://localhost:8080/"
        },
        "id": "hVfuK7m977Vn",
        "outputId": "37ddf657-3142-4f74-fe53-d2f1f7621a10"
      },
      "execution_count": 31,
      "outputs": [
        {
          "output_type": "stream",
          "name": "stdout",
          "text": [
            "m\n"
          ]
        }
      ]
    }
  ]
}