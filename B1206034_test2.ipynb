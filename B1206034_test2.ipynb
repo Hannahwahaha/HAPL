{
  "nbformat": 4,
  "nbformat_minor": 0,
  "metadata": {
    "colab": {
      "provenance": []
    },
    "kernelspec": {
      "name": "python3",
      "display_name": "Python 3"
    },
    "language_info": {
      "name": "python"
    }
  },
  "cells": [
    {
      "cell_type": "markdown",
      "source": [
        "第一題"
      ],
      "metadata": {
        "id": "sgGnpgtCGQTT"
      }
    },
    {
      "cell_type": "markdown",
      "source": [
        "定義變數"
      ],
      "metadata": {
        "id": "_t74mJc-FwLq"
      }
    },
    {
      "cell_type": "code",
      "execution_count": null,
      "metadata": {
        "id": "auZce7kTCW_j"
      },
      "outputs": [],
      "source": [
        "x=2\n",
        "y=1"
      ]
    },
    {
      "cell_type": "markdown",
      "source": [
        "最小單元計算"
      ],
      "metadata": {
        "id": "tii8g56pGBx1"
      }
    },
    {
      "cell_type": "code",
      "source": [
        "a=2*x+y\n",
        "b=100-y\n",
        "z=a*b\n",
        "print('Ans.is=',z)"
      ],
      "metadata": {
        "colab": {
          "base_uri": "https://localhost:8080/"
        },
        "id": "3VlM9vqJGFQr",
        "outputId": "f8202ff6-47f0-41a0-a67f-de3333c9ab4c"
      },
      "execution_count": null,
      "outputs": [
        {
          "output_type": "stream",
          "name": "stdout",
          "text": [
            "Ans.is= 495\n"
          ]
        }
      ]
    },
    {
      "cell_type": "markdown",
      "source": [
        "檢查資料型態"
      ],
      "metadata": {
        "id": "JMZIAo7kGLsC"
      }
    },
    {
      "cell_type": "code",
      "source": [
        "print(type(a))\n",
        "print(type(b))\n",
        "print(type(z))\n",
        "\n",
        "print(type(x))\n",
        "print(type(y))"
      ],
      "metadata": {
        "colab": {
          "base_uri": "https://localhost:8080/"
        },
        "id": "Jq9rseqSGW1b",
        "outputId": "5915c7a6-05a7-435c-f54e-9d81e32857ec"
      },
      "execution_count": null,
      "outputs": [
        {
          "output_type": "stream",
          "name": "stdout",
          "text": [
            "<class 'int'>\n",
            "<class 'int'>\n",
            "<class 'int'>\n",
            "<class 'int'>\n",
            "<class 'int'>\n"
          ]
        }
      ]
    },
    {
      "cell_type": "markdown",
      "source": [
        "第二題"
      ],
      "metadata": {
        "id": "jmcEYwHIGwDy"
      }
    },
    {
      "cell_type": "markdown",
      "source": [
        "定義變數"
      ],
      "metadata": {
        "id": "UXbZzcj5Gz06"
      }
    },
    {
      "cell_type": "code",
      "source": [
        "y=4"
      ],
      "metadata": {
        "id": "9IdTuf1HDvpa"
      },
      "execution_count": null,
      "outputs": []
    },
    {
      "cell_type": "markdown",
      "source": [
        "最小單元計算"
      ],
      "metadata": {
        "id": "uReStqBqG8GJ"
      }
    },
    {
      "cell_type": "code",
      "source": [
        "a=100\n",
        "b=2*y+1\n",
        "z=a/b\n",
        "print('Ans.is=',z)"
      ],
      "metadata": {
        "colab": {
          "base_uri": "https://localhost:8080/"
        },
        "id": "LpiTrp54G8gR",
        "outputId": "f906cb70-a7b4-4db9-f897-135b31598783"
      },
      "execution_count": null,
      "outputs": [
        {
          "output_type": "stream",
          "name": "stdout",
          "text": [
            "Ans.is= 11.11111111111111\n"
          ]
        }
      ]
    },
    {
      "cell_type": "markdown",
      "source": [
        "檢查資料型態"
      ],
      "metadata": {
        "id": "Y1zXE9BWHEPJ"
      }
    },
    {
      "cell_type": "code",
      "source": [
        "print(type(a))\n",
        "print(type(b))\n",
        "print(type(z))\n",
        "\n",
        "print(type(y))"
      ],
      "metadata": {
        "colab": {
          "base_uri": "https://localhost:8080/"
        },
        "id": "RgxNKTctEhG6",
        "outputId": "92837077-141e-452a-c6a2-dd535dea1583"
      },
      "execution_count": null,
      "outputs": [
        {
          "output_type": "stream",
          "name": "stdout",
          "text": [
            "<class 'int'>\n",
            "<class 'int'>\n",
            "<class 'float'>\n",
            "<class 'int'>\n"
          ]
        }
      ]
    }
  ]
}