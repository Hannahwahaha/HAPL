{
  "nbformat": 4,
  "nbformat_minor": 0,
  "metadata": {
    "colab": {
      "provenance": []
    },
    "kernelspec": {
      "name": "python3",
      "display_name": "Python 3"
    },
    "language_info": {
      "name": "python"
    }
  },
  "cells": [
    {
      "cell_type": "markdown",
      "source": [
        "1."
      ],
      "metadata": {
        "id": "URmnVXWiAuxO"
      }
    },
    {
      "cell_type": "code",
      "source": [
        "n=int(input('請輸入數字:'))\n",
        "m=5\n",
        "n=n*2+1\n",
        "for x in range(n):\n",
        "  if x%2==1:\n",
        "    Q= int((n-x)/2)\n",
        "    for y in range(Q):\n",
        "      print(' ',end='')\n",
        "    for k in range(x):\n",
        "      print('*',end='')\n",
        "    print( )\n",
        "for i in range(m):\n",
        "  print((' '*int((n-3)/2)+'*'*3))"
      ],
      "metadata": {
        "id": "xs1QK50ZM1xv",
        "colab": {
          "base_uri": "https://localhost:8080/"
        },
        "outputId": "2a4d9b74-dd6a-4901-e136-e81eb003d93e"
      },
      "execution_count": 10,
      "outputs": [
        {
          "output_type": "stream",
          "name": "stdout",
          "text": [
            "請輸入數字:9\n",
            "         *\n",
            "        ***\n",
            "       *****\n",
            "      *******\n",
            "     *********\n",
            "    ***********\n",
            "   *************\n",
            "  ***************\n",
            " *****************\n",
            "        ***\n",
            "        ***\n",
            "        ***\n",
            "        ***\n",
            "        ***\n"
          ]
        }
      ]
    },
    {
      "cell_type": "markdown",
      "source": [
        "2."
      ],
      "metadata": {
        "id": "e318nOfhAwqd"
      }
    },
    {
      "cell_type": "code",
      "source": [
        "def calculate_bmi(height_cm, weight_kg):\n",
        "\n",
        "    try:\n",
        "        height_m = height_cm / 100.0\n",
        "        bmi = weight_kg / (height_m ** 2)\n",
        "\n",
        "        if bmi < 18.5:\n",
        "            result = \"過輕\"\n",
        "        elif 18.5 <= bmi < 24:\n",
        "            result = \"適中\"\n",
        "        elif 24 <= bmi < 27:\n",
        "            result = \"過重\"\n",
        "        elif bmi >= 27:\n",
        "            result = \"肥胖\"\n",
        "\n",
        "        return bmi, result\n",
        "\n",
        "    except ValueError:\n",
        "        print(\"輸入內容錯誤，請確保輸入的是數字。\")\n",
        "        raise\n",
        "\n",
        "try:\n",
        "    height = float(input(\"請輸入身高 (公分): \"))\n",
        "    weight = float(input(\"請輸入體重 (公斤): \"))\n",
        "\n",
        "    bmi_value, bmi_result = calculate_bmi(height, weight)\n",
        "    print(f\"您的BMI值為: {bmi_value:.2f}\")\n",
        "    print(f\"體位結果: {bmi_result}\")\n",
        "\n",
        "\n",
        "except ValueError:\n",
        "    print(\"輸入內容錯誤，請確保輸入的是數字。\")"
      ],
      "metadata": {
        "colab": {
          "base_uri": "https://localhost:8080/"
        },
        "id": "xoSZxG-y8q5R",
        "outputId": "6be93947-2942-4745-ca7c-4e9e3d801aeb"
      },
      "execution_count": 23,
      "outputs": [
        {
          "output_type": "stream",
          "name": "stdout",
          "text": [
            "請輸入身高 (公分): 158\n",
            "請輸入體重 (公斤): 51\n",
            "您的BMI值為: 20.43\n",
            "體位結果: 適中\n"
          ]
        }
      ]
    }
  ]
}