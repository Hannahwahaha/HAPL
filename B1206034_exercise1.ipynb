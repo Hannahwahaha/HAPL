{
  "nbformat": 4,
  "nbformat_minor": 0,
  "metadata": {
    "colab": {
      "provenance": []
    },
    "kernelspec": {
      "name": "python3",
      "display_name": "Python 3"
    },
    "language_info": {
      "name": "python"
    }
  },
  "cells": [
    {
      "cell_type": "markdown",
      "source": [
        "第一題"
      ],
      "metadata": {
        "id": "KY-nt2U3118Y"
      }
    },
    {
      "cell_type": "code",
      "execution_count": 6,
      "metadata": {
        "colab": {
          "base_uri": "https://localhost:8080/"
        },
        "id": "h7z9RAksy-Ci",
        "outputId": "545e7e80-f75e-442d-b9ad-9824b043aca0"
      },
      "outputs": [
        {
          "output_type": "stream",
          "name": "stdout",
          "text": [
            "長庚大學\n",
            "職治系\n",
            "翁韻函\n"
          ]
        }
      ],
      "source": [
        "x='''長庚大學\n",
        "職治系\n",
        "翁韻函'''\n",
        "print(x)"
      ]
    },
    {
      "cell_type": "markdown",
      "source": [
        "第二題"
      ],
      "metadata": {
        "id": "M2KTl32x15Yf"
      }
    },
    {
      "cell_type": "code",
      "source": [
        "z=3**5\n",
        "print(z)"
      ],
      "metadata": {
        "colab": {
          "base_uri": "https://localhost:8080/"
        },
        "id": "o-D8LX5X0HvB",
        "outputId": "8dba7d87-d8fe-4c2e-8dc8-41b6f7b56dc9"
      },
      "execution_count": 10,
      "outputs": [
        {
          "output_type": "stream",
          "name": "stdout",
          "text": [
            "243\n"
          ]
        }
      ]
    },
    {
      "cell_type": "markdown",
      "source": [
        "第三題"
      ],
      "metadata": {
        "id": "5Baq7DAG166P"
      }
    },
    {
      "cell_type": "code",
      "source": [
        "a=3\n",
        "a/=5\n",
        "print(a)"
      ],
      "metadata": {
        "colab": {
          "base_uri": "https://localhost:8080/"
        },
        "id": "YI0lXoIM1HQ4",
        "outputId": "0ceaec0e-c5ca-4db0-aa0f-b0446419bffd"
      },
      "execution_count": 13,
      "outputs": [
        {
          "output_type": "stream",
          "name": "stdout",
          "text": [
            "0.6\n"
          ]
        }
      ]
    }
  ]
}